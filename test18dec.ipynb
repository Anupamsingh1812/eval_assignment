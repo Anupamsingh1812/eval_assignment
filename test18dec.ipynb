{
 "cells": [
  {
   "cell_type": "code",
   "execution_count": 43,
   "id": "9946effa-0015-4e5b-a6d8-3ff06efe8b06",
   "metadata": {},
   "outputs": [],
   "source": [
    "#quest- 1\n",
    "def eval_expr(expression, var):\n",
    "     return eval(expression, var)"
   ]
  },
  {
   "cell_type": "code",
   "execution_count": 45,
   "id": "dede22b9-4e28-4763-9ce8-5d3eb9f023f7",
   "metadata": {},
   "outputs": [],
   "source": [
    "expression = \"a + b * c\""
   ]
  },
  {
   "cell_type": "code",
   "execution_count": 47,
   "id": "06d75d55-1529-445b-a99c-25e5a1a3f005",
   "metadata": {},
   "outputs": [],
   "source": [
    "var = {\"a\": 4, \"b\": 2, \"c\": 3}"
   ]
  },
  {
   "cell_type": "code",
   "execution_count": 49,
   "id": "00d8dbe5-e881-493e-8c65-3609bd3dbe4b",
   "metadata": {},
   "outputs": [
    {
     "name": "stdout",
     "output_type": "stream",
     "text": [
      "10\n"
     ]
    }
   ],
   "source": [
    "output = eval_expr(expression, var)\n",
    "print(output)  "
   ]
  },
  {
   "cell_type": "code",
   "execution_count": 113,
   "id": "1b061b36-236b-4cd8-b55c-2d3c90ea8492",
   "metadata": {},
   "outputs": [],
   "source": [
    "# ques - 2\n",
    "def evaluate_inventory_condition(json_data, expression):\n",
    "    inventory = json.loads(json_data)\n",
    "    return eval(expression, inventory)"
   ]
  },
  {
   "cell_type": "code",
   "execution_count": 115,
   "id": "415f36f9-aef8-4f84-ab10-ed7c9f335221",
   "metadata": {},
   "outputs": [],
   "source": [
    "json_input = '''\n",
    "{\n",
    "  \"item1\": 50,\n",
    "  \"item2\": 30,\n",
    "  \"item3\": 100\n",
    "}\n",
    "'''\n",
    "expression = \"item1 if item1 > 40 else item2\""
   ]
  },
  {
   "cell_type": "code",
   "execution_count": 117,
   "id": "f8b74049-a9a1-4359-b70f-2ac14a00a42b",
   "metadata": {},
   "outputs": [
    {
     "name": "stdout",
     "output_type": "stream",
     "text": [
      "50\n"
     ]
    }
   ],
   "source": [
    "output = evaluate_inventory_condition(json_input, expression)\n",
    "print(output)"
   ]
  },
  {
   "cell_type": "code",
   "execution_count": 119,
   "id": "68278e2e-d883-4c0d-90b6-e8d83aa6b611",
   "metadata": {},
   "outputs": [],
   "source": [
    "#quest -3\n",
    "\n",
    "products = [\n",
    "    {\"name\": \"apple\", \"price\": 30},\n",
    "    {\"name\": \"banana\", \"price\": 20},\n",
    "    {\"name\": \"cherry\", \"price\": 50}\n",
    "]\n"
   ]
  },
  {
   "cell_type": "code",
   "execution_count": 121,
   "id": "d6185d12-7e4e-4fd1-a247-94dcb0099775",
   "metadata": {},
   "outputs": [],
   "source": [
    "expression = \"list(map(lambda x: {'name': x['name'], 'price': round(x['price'] * 0.9, 2)}, products))\""
   ]
  },
  {
   "cell_type": "code",
   "execution_count": 123,
   "id": "d278b862-760c-4443-a999-a4a23cc7a39a",
   "metadata": {},
   "outputs": [],
   "source": [
    "discounted_products = eval(expression)"
   ]
  },
  {
   "cell_type": "code",
   "execution_count": 125,
   "id": "9fbc331c-2390-4f76-bb6f-7325703a54fe",
   "metadata": {},
   "outputs": [
    {
     "name": "stdout",
     "output_type": "stream",
     "text": [
      "[{'name': 'apple', 'price': 27.0}, {'name': 'banana', 'price': 18.0}, {'name': 'cherry', 'price': 45.0}]\n"
     ]
    }
   ],
   "source": [
    "print(discounted_products)"
   ]
  },
  {
   "cell_type": "code",
   "execution_count": 103,
   "id": "8e71ab3a-14ec-4542-8dc1-cfdcae92a055",
   "metadata": {},
   "outputs": [],
   "source": [
    "#ques-4\n",
    "class Car:\n",
    "    def start_engine(self):\n",
    "        print(\"Engine started!\")"
   ]
  },
  {
   "cell_type": "code",
   "execution_count": 105,
   "id": "68237909-f933-4134-9322-86e29440c655",
   "metadata": {},
   "outputs": [
    {
     "name": "stdout",
     "output_type": "stream",
     "text": [
      "Before patching:\n",
      "Engine started!\n"
     ]
    }
   ],
   "source": [
    "car = Car()\n",
    "print(\"Before patching:\")\n",
    "car.start_engine() "
   ]
  },
  {
   "cell_type": "code",
   "execution_count": 107,
   "id": "ed22d8cd-9579-471e-a107-6edadb1fc49d",
   "metadata": {},
   "outputs": [],
   "source": [
    "def new_start_engine(self):\n",
    "    print(\"Engine started with a roar!\")"
   ]
  },
  {
   "cell_type": "code",
   "execution_count": 109,
   "id": "53c0ba1a-25ab-46aa-8fa8-2de3df762428",
   "metadata": {},
   "outputs": [],
   "source": [
    "Car.start_engine = new_start_engine"
   ]
  },
  {
   "cell_type": "code",
   "execution_count": 111,
   "id": "d4a3037a-a928-4185-b98a-1eca7d6e2f48",
   "metadata": {},
   "outputs": [
    {
     "name": "stdout",
     "output_type": "stream",
     "text": [
      "\n",
      "After patching:\n",
      "Engine started with a roar!\n"
     ]
    }
   ],
   "source": [
    "print(\"\\nAfter patching:\")\n",
    "car.start_engine()"
   ]
  },
  {
   "cell_type": "code",
   "execution_count": null,
   "id": "5d1c3d4b-29b5-478d-93fa-ac9502b006eb",
   "metadata": {},
   "outputs": [],
   "source": []
  }
 ],
 "metadata": {
  "kernelspec": {
   "display_name": "Python 3 (ipykernel)",
   "language": "python",
   "name": "python3"
  },
  "language_info": {
   "codemirror_mode": {
    "name": "ipython",
    "version": 3
   },
   "file_extension": ".py",
   "mimetype": "text/x-python",
   "name": "python",
   "nbconvert_exporter": "python",
   "pygments_lexer": "ipython3",
   "version": "3.12.4"
  }
 },
 "nbformat": 4,
 "nbformat_minor": 5
}
